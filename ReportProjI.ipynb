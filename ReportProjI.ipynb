{
 "cells": [
  {
   "cell_type": "markdown",
   "id": "ba5e7e2b",
   "metadata": {},
   "source": [
    "# Project I report\n",
    "\n",
    "First enter your name and ID below.\n",
    "Then, answer the question and report on your results according to the instructions.\n"
   ]
  },
  {
   "cell_type": "markdown",
   "id": "35ac5bbb",
   "metadata": {},
   "source": [
    "### Name:\n",
    "\n",
    "### ID: "
   ]
  },
  {
   "cell_type": "markdown",
   "id": "089b8d17",
   "metadata": {},
   "source": [
    "## Part A - A single particle in a 1D harmonic trap\n",
    "\n",
    "Simulation definition:\n",
    "\n",
    "Number of particles: 1.\n",
    "Box Length: 100.\n",
    "Initial positions: x = 5.\n",
    "Initial momenta: Zero.\n",
    "Periodic boundary conditions: No.\n",
    "Nsteps = 10000.\n",
    "mass = 1.\n",
    "\n",
    "Determine: What is the largest dt you can use so that the energy is conserved better than 0.1% of its initial value?\n",
    "\n",
    "Figure 1: The position of particle vs. time.\n",
    "Figure 2: Potential and Kinteic energies vs. time.\n",
    "Figure 3: The change in the total energy with respect to t=0 in precent vs. time.\n",
    "Figure 4: Same as figure 3 but with different values of dt.\n",
    "Figure 5: A histogram of the positions.\n",
    "\n",
    "\n",
    "\n",
    "\n"
   ]
  },
  {
   "cell_type": "code",
   "execution_count": null,
   "id": "ceeef3be",
   "metadata": {},
   "outputs": [],
   "source": []
  }
 ],
 "metadata": {
  "kernelspec": {
   "display_name": "Python 3 (ipykernel)",
   "language": "python",
   "name": "python3"
  },
  "language_info": {
   "codemirror_mode": {
    "name": "ipython",
    "version": 3
   },
   "file_extension": ".py",
   "mimetype": "text/x-python",
   "name": "python",
   "nbconvert_exporter": "python",
   "pygments_lexer": "ipython3",
   "version": "3.9.7"
  }
 },
 "nbformat": 4,
 "nbformat_minor": 5
}
