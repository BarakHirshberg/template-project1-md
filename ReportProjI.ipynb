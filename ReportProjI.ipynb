{
 "cells": [
  {
   "cell_type": "markdown",
   "id": "ba5e7e2b",
   "metadata": {},
   "source": [
    "# Project I report\n",
    "\n",
    "First enter your name and ID below.\n",
    "Then, answer the question and report on your results according to the instructions.\n"
   ]
  },
  {
   "cell_type": "markdown",
   "id": "35ac5bbb",
   "metadata": {},
   "source": [
    "### Name:\n",
    "\n",
    "### ID: "
   ]
  },
  {
   "cell_type": "markdown",
   "id": "089b8d17",
   "metadata": {},
   "source": [
    "## Part A - one particle in a 1D harmonic trap\n",
    "\n",
    "**Simulation definitions:**\n",
    "\n",
    "Number of particles: 1.\n",
    "Initial positions: x = 5.\n",
    "Initial momenta: Zero.\n",
    "Periodic boundary conditions: No.\n",
    "Nsteps = 10000.\n",
    "mass = 1.\n",
    "trap frequency = 1.\n",
    "\n",
    "1. Figure 1: Plot the change in the total energy with respect to t=0 (in precent) vs. for time different values of dt.\n",
    "2. What is the largest dt you can use so that the energy is conserved better than 0.1% of its initial value?\n",
    "3. Figure 2: Plot the position of the particle vs. time. Explain the observed behavior.\n",
    "4. Figure 3: Plot the potential and kinteic energies vs. time.\n",
    "5. Figure 4: Plot the histogram of the positions of the particle.\n",
    "6. Explain the shape of the histogram in Figure 5."
   ]
  },
  {
   "cell_type": "markdown",
   "id": "2128905d",
   "metadata": {},
   "source": [
    "## Part B - one particle in a 1D anharmonic trap\n",
    "\n",
    "**Simulation definitions:**\n",
    "\n",
    "$$\n",
    "V = \\frac{1}{4} x^4\n",
    "$$\n",
    "\n",
    "Number of particles: 1.\n",
    "Initial positions: x = 1.5.\n",
    "Initial momenta: Zero.\n",
    "Periodic boundary conditions: No.\n",
    "Nsteps = 10000.\n",
    "mass = 1.\n",
    "trap frequency = 1.\n",
    "\n",
    "Determine: What is the largest dt you can use so that the energy is conserved better than 0.1% of its initial value?\n",
    "\n",
    "1. Figure 1: Plot the change in the total energy with respect to t=0 (in precent) vs. for time different values of dt.\n",
    "2. What is the largest dt you can use so that the energy is conserved better than 0.1% of its initial value?\n",
    "3. Figure 2: Plot the position of the particle vs. time. Explain the observed behavior.\n",
    "4. Figure 3: Plot the potential and kinteic energies vs. time.\n",
    "5. Figure 4: Plot the histogram of the positions of the particle.\n",
    "6. Explain the difference between the histogram of Part B and Part A.\n"
   ]
  },
  {
   "cell_type": "code",
   "execution_count": null,
   "id": "6e71470c",
   "metadata": {},
   "outputs": [],
   "source": []
  }
 ],
 "metadata": {
  "kernelspec": {
   "display_name": "Python 3 (ipykernel)",
   "language": "python",
   "name": "python3"
  },
  "language_info": {
   "codemirror_mode": {
    "name": "ipython",
    "version": 3
   },
   "file_extension": ".py",
   "mimetype": "text/x-python",
   "name": "python",
   "nbconvert_exporter": "python",
   "pygments_lexer": "ipython3",
   "version": "3.9.7"
  }
 },
 "nbformat": 4,
 "nbformat_minor": 5
}
